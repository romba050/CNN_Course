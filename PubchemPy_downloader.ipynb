{
 "cells": [
  {
   "cell_type": "code",
   "execution_count": 1,
   "metadata": {},
   "outputs": [],
   "source": [
    "import numpy as np\n",
    "import pandas as pd\n",
    "import pubchempy as pcp\n",
    "import matplotlib as plt "
   ]
  },
  {
   "cell_type": "code",
   "execution_count": 4,
   "metadata": {},
   "outputs": [],
   "source": [
    "def compound_finder(compounds, indentity):\n",
    "    '''\n",
    "    Downloads the defined compound properties from Pubchem\n",
    "    \n",
    "    compounds: list of compound identifiers (e.g. names or CIDs)\n",
    "    \n",
    "    identity: 'name', 'cid', ... see PubchemPy documentation for more\n",
    "    '''\n",
    "    \n",
    "    df = pd.DataFrame()\n",
    "    for compound in compounds:\n",
    "        temp = pcp.get_properties(['IUPACName',\n",
    "                                   'CanonicalSMILES',\n",
    "                                   'MolecularFormula', \n",
    "                               'MolecularWeight'], compound, indentity, as_dataframe=True)\n",
    "        #print(temp)\n",
    "        df = pd.concat([ df,temp])\n",
    "    df.reindex()\n",
    "    df.index = compounds\n",
    "    return df"
   ]
  },
  {
   "cell_type": "code",
   "execution_count": 15,
   "metadata": {},
   "outputs": [],
   "source": [
    "def compound_finder_name(compounds):\n",
    "    '''\n",
    "    downloads the compounds based on CID. \n",
    "    coumpounds: list of CIDs (integers).\n",
    "    Use compounds = list(range(from, to))\n",
    "    '''\n",
    "    df = pd.DataFrame()\n",
    "    d = dict()\n",
    "    smiles = []\n",
    "    synonyms = []\n",
    "    \n",
    "    for compound in compounds:\n",
    "        c = pcp.Compound.from_cid(compound)\n",
    "        smile = c.canonical_smiles\n",
    "        synonym = c.synonyms\n",
    "        smiles.append(smile)\n",
    "        synonyms.append(synonym)\n",
    "    d['synonym'] = synonyms\n",
    "    d['smiles'] = smiles\n",
    "    \n",
    "    df = pd.DataFrame(d)\n",
    "    \n",
    "    return(df)"
   ]
  },
  {
   "cell_type": "code",
   "execution_count": 18,
   "metadata": {},
   "outputs": [
    {
     "name": "stdout",
     "output_type": "stream",
     "text": [
      "                Acetyl-DL-carnitine\n",
      "0  CC(=O)OC(CC(=O)[O-])C[N+](C)(C)C\n",
      "  (2-acetyloxy-4-hydroxy-4-oxobutyl)-trimethylazanium\n",
      "0                      CC(=O)OC(CC(=O)O)C[N+](C)(C)C \n"
     ]
    },
    {
     "name": "stderr",
     "output_type": "stream",
     "text": [
      "C:\\Users\\Flemm\\.conda\\envs\\deeplearning\\lib\\site-packages\\ipykernel_launcher.py:9: FutureWarning: Sorting because non-concatenation axis is not aligned. A future version\n",
      "of pandas will change to not sort by default.\n",
      "\n",
      "To accept the future behavior, pass 'sort=False'.\n",
      "\n",
      "To retain the current behavior and silence the warning, pass 'sort=True'.\n",
      "\n",
      "  if __name__ == '__main__':\n"
     ]
    },
    {
     "name": "stdout",
     "output_type": "stream",
     "text": [
      "  5,6-dihydroxycyclohexa-1,3-diene-1-carboxylic acid\n",
      "0                           C1=CC(C(C(=C1)C(=O)O)O)O\n",
      "  (2-acetyloxy-4-hydroxy-4-oxobutyl)-trimethylazanium  \\\n",
      "0                                                NaN    \n",
      "0                      CC(=O)OC(CC(=O)O)C[N+](C)(C)C    \n",
      "0                                                NaN    \n",
      "\n",
      "  5,6-dihydroxycyclohexa-1,3-diene-1-carboxylic acid  \\\n",
      "0                                                NaN   \n",
      "0                                                NaN   \n",
      "0                           C1=CC(C(C(=C1)C(=O)O)O)O   \n",
      "\n",
      "                Acetyl-DL-carnitine  \n",
      "0  CC(=O)OC(CC(=O)[O-])C[N+](C)(C)C  \n",
      "0                               NaN  \n",
      "0                               NaN  \n"
     ]
    }
   ],
   "source": [
    "comps = compound_finder_name([1, 2,3]) # to test the script only --> let students code the function, but in the 'real' exercise we must provide\n",
    "# a bigger dataset as it takes a loooooong time to download the data from pubchem\n",
    "print(comps)"
   ]
  },
  {
   "cell_type": "code",
   "execution_count": 5,
   "metadata": {},
   "outputs": [],
   "source": [
    "compounds = compound_finder(list(range(1,100)), 'cid')\n"
   ]
  },
  {
   "cell_type": "code",
   "execution_count": 6,
   "metadata": {},
   "outputs": [
    {
     "name": "stdout",
     "output_type": "stream",
     "text": [
      "                    CanonicalSMILES  \\\n",
      "1  CC(=O)OC(CC(=O)[O-])C[N+](C)(C)C   \n",
      "2     CC(=O)OC(CC(=O)O)C[N+](C)(C)C   \n",
      "3          C1=CC(C(C(=C1)C(=O)O)O)O   \n",
      "4                           CC(CN)O   \n",
      "5              C(C(=O)COP(=O)(O)O)N   \n",
      "\n",
      "                                           IUPACName MolecularFormula  \\\n",
      "1        3-acetyloxy-4-(trimethylazaniumyl)butanoate         C9H17NO4   \n",
      "2     (2-acetyloxy-3-carboxypropyl)-trimethylazanium        C9H18NO4+   \n",
      "3  5,6-dihydroxycyclohexa-1,3-diene-1-carboxylic ...           C7H8O4   \n",
      "4                                 1-aminopropan-2-ol           C3H9NO   \n",
      "5         (3-amino-2-oxopropyl) dihydrogen phosphate         C3H8NO5P   \n",
      "\n",
      "   MolecularWeight  \n",
      "1          203.238  \n",
      "2          204.246  \n",
      "3          156.137  \n",
      "4           75.111  \n",
      "5          169.073  \n"
     ]
    }
   ],
   "source": [
    "print(compounds.head())"
   ]
  }
 ],
 "metadata": {
  "kernelspec": {
   "display_name": "Python 3",
   "language": "python",
   "name": "python3"
  },
  "language_info": {
   "codemirror_mode": {
    "name": "ipython",
    "version": 3
   },
   "file_extension": ".py",
   "mimetype": "text/x-python",
   "name": "python",
   "nbconvert_exporter": "python",
   "pygments_lexer": "ipython3",
   "version": "3.7.3"
  }
 },
 "nbformat": 4,
 "nbformat_minor": 2
}
