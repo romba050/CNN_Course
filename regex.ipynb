{
 "cells": [
  {
   "cell_type": "code",
   "execution_count": 8,
   "metadata": {
    "colab": {
     "base_uri": "https://localhost:8080/",
     "height": 34
    },
    "colab_type": "code",
    "executionInfo": {
     "elapsed": 904,
     "status": "ok",
     "timestamp": 1559393451745,
     "user": {
      "displayName": "Basile Rommes",
      "photoUrl": "",
      "userId": "07627898943210652149"
     },
     "user_tz": -120
    },
    "id": "CD3oWNJ4_0Xw",
    "outputId": "6d890d62-e91f-42a9-ddb6-854c93700f2c"
   },
   "outputs": [
    {
     "data": {
      "text/plain": [
       "['C1=CC(=CC=C1C(C(CO)NC(=O)C(Cl)Cl)O)[N+](=O)[O-]']"
      ]
     },
     "execution_count": 8,
     "metadata": {
      "tags": []
     },
     "output_type": "execute_result"
    }
   ],
   "source": [
    "import re\n",
    "smiles = ['C1=CC(=CC=C1C(C(CO)NC(=O)C(Cl)Cl)O)[N+](=O)[O-]', 'C[N+](=O)[O-]']\n",
    "ring_smiles = []\n",
    "for smile in smiles:\n",
    "# 'C\\d' means character 'C' followed by a digit i.e. [0-9]\n",
    "# It is the regex pattern common to all SMILE strings describing a structure with at least one ring\n",
    "  if re.search('C\\d', smile):\n",
    "    ring_smiles.append(smile)\n",
    "ring_smiles"
   ]
  },
  {
   "cell_type": "code",
   "execution_count": null,
   "metadata": {
    "colab": {},
    "colab_type": "code",
    "id": "aiFAvoI9Eoop"
   },
   "outputs": [],
   "source": []
  }
 ],
 "metadata": {
  "colab": {
   "name": "regex.ipynb",
   "provenance": [],
   "version": "0.3.2"
  },
  "kernelspec": {
   "display_name": "Python 3",
   "language": "python",
   "name": "python3"
  },
  "language_info": {
   "codemirror_mode": {
    "name": "ipython",
    "version": 3
   },
   "file_extension": ".py",
   "mimetype": "text/x-python",
   "name": "python",
   "nbconvert_exporter": "python",
   "pygments_lexer": "ipython3",
   "version": "3.7.3"
  }
 },
 "nbformat": 4,
 "nbformat_minor": 2
}
