{
 "cells": [
  {
   "cell_type": "markdown",
   "metadata": {},
   "source": [
    "## Welcome\n",
    "This is the first exercise of the Course. \n",
    "\n",
    "To start with, we are going to show you how to access and download chemical inforamtion from the Pubchem database. \n",
    "\n",
    "It is a database widely used in biomedical and pharmaceutical research, where researchers upload their published data\n",
    "\n",
    "Here a [link](https://pubchem.ncbi.nlm.nih.gov/) to the webpage. \n",
    "\n",
    "Luckily, there is a python library available using the pubchem API!! \n",
    "\n"
   ]
  },
  {
   "cell_type": "markdown",
   "metadata": {},
   "source": [
    "Import the PubchemPy library as pcp.\n",
    "The code to import other neccessary libraries is already written for you."
   ]
  },
  {
   "cell_type": "code",
   "execution_count": null,
   "metadata": {},
   "outputs": [],
   "source": [
    "import pubchempy as pcp\n",
    "import pandas as pd"
   ]
  },
  {
   "cell_type": "code",
   "execution_count": null,
   "metadata": {},
   "outputs": [],
   "source": []
  }
 ],
 "metadata": {
  "kernelspec": {
   "display_name": "Python 3",
   "language": "python",
   "name": "python3"
  },
  "language_info": {
   "codemirror_mode": {
    "name": "ipython",
    "version": 3
   },
   "file_extension": ".py",
   "mimetype": "text/x-python",
   "name": "python",
   "nbconvert_exporter": "python",
   "pygments_lexer": "ipython3",
   "version": "3.7.3"
  }
 },
 "nbformat": 4,
 "nbformat_minor": 2
}
