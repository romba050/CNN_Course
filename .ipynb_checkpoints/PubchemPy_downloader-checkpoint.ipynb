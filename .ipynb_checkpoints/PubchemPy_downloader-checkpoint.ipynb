{
 "cells": [
  {
   "cell_type": "code",
   "execution_count": 3,
   "metadata": {},
   "outputs": [
    {
     "name": "stdout",
     "output_type": "stream",
     "text": [
      "Collecting pubchempy\n",
      "  Downloading https://files.pythonhosted.org/packages/aa/fb/8de3aa9804b614dbc8dc5c16ed061d819cc360e0ddecda3dcd01c1552339/PubChemPy-1.0.4.tar.gz\n",
      "Building wheels for collected packages: pubchempy\n",
      "  Building wheel for pubchempy (setup.py) ... \u001b[?25ldone\n",
      "\u001b[?25h  Stored in directory: /Users/basilerommes/Library/Caches/pip/wheels/10/4d/51/6b843681a9a5aef35f0d0fbce243de46f85080036e16118752\n",
      "Successfully built pubchempy\n",
      "Installing collected packages: pubchempy\n",
      "Successfully installed pubchempy-1.0.4\n"
     ]
    }
   ],
   "source": [
    "!pip install pubchempy"
   ]
  },
  {
   "cell_type": "code",
   "execution_count": 6,
   "metadata": {},
   "outputs": [
    {
     "ename": "ModuleNotFoundError",
     "evalue": "No module named 'pubchempy'",
     "output_type": "error",
     "traceback": [
      "\u001b[0;31m-----------------------------------------------------------------\u001b[0m",
      "\u001b[0;31mModuleNotFoundError\u001b[0m             Traceback (most recent call last)",
      "\u001b[0;32m<ipython-input-6-a2e1ab557e01>\u001b[0m in \u001b[0;36m<module>\u001b[0;34m\u001b[0m\n\u001b[1;32m      8\u001b[0m \u001b[0;32mimport\u001b[0m \u001b[0mnumpy\u001b[0m \u001b[0;32mas\u001b[0m \u001b[0mnp\u001b[0m\u001b[0;34m\u001b[0m\u001b[0;34m\u001b[0m\u001b[0m\n\u001b[1;32m      9\u001b[0m \u001b[0;32mimport\u001b[0m \u001b[0mpandas\u001b[0m \u001b[0;32mas\u001b[0m \u001b[0mpd\u001b[0m\u001b[0;34m\u001b[0m\u001b[0;34m\u001b[0m\u001b[0m\n\u001b[0;32m---> 10\u001b[0;31m \u001b[0;32mimport\u001b[0m \u001b[0mpubchempy\u001b[0m \u001b[0;32mas\u001b[0m \u001b[0mpcp\u001b[0m\u001b[0;34m\u001b[0m\u001b[0;34m\u001b[0m\u001b[0m\n\u001b[0m\u001b[1;32m     11\u001b[0m \u001b[0;32mimport\u001b[0m \u001b[0mmatplotlib\u001b[0m \u001b[0;32mas\u001b[0m \u001b[0mplt\u001b[0m\u001b[0;34m\u001b[0m\u001b[0;34m\u001b[0m\u001b[0m\n\u001b[1;32m     12\u001b[0m \u001b[0;34m\u001b[0m\u001b[0m\n",
      "\u001b[0;31mModuleNotFoundError\u001b[0m: No module named 'pubchempy'"
     ]
    }
   ],
   "source": [
    "# -*- coding: utf-8 -*-\n",
    "\"\"\"\n",
    "Created on Thu Feb 21 14:24:54 2019\n",
    "\n",
    "@author: Flemming Morsch\n",
    "\"\"\"\n",
    "\n",
    "import numpy as np\n",
    "import pandas as pd\n",
    "import pubchempy as pcp\n",
    "import matplotlib as plt \n",
    "\n",
    "\n",
    "\n",
    "################################\n",
    "\n",
    "pd.set_option('display.max_columns', None)  # or 1000\n",
    "pd.set_option('display.max_rows', None)  # or 1000\n",
    "pd.set_option('display.max_colwidth', -1)  # or 199\n",
    "\n",
    "\n",
    "\n",
    "\n",
    "\n",
    "compounds= ['Indomethacin', 'Aspirin', 'Ibuprofen', 'Paracetamol',\n",
    "            'Diclofenac', 'N-Vinyl-2-pyrrolidone', 'Glycerol', 'Propylene Glycol']\n",
    "df = pd.DataFrame()\n",
    "\n",
    "for compound in compounds:\n",
    "    temp = pcp.get_properties(['MolecularFormula', \n",
    "                               'MolecularWeight', \n",
    "                               'CanonicalSMILES', \n",
    "                               'IsomericSMILES', \n",
    "                               'InChI', 'InChIKey', \n",
    "                               'IUPACName', 'XLogP', 'ExactMass', \n",
    "                               'MonoisotopicMass', 'TPSA', 'Complexity',\n",
    "                               'Charge', 'HBondDonorCount', 'HBondAcceptorCount', \n",
    "                               'RotatableBondCount', 'HeavyAtomCount', 'IsotopeAtomCount',\n",
    "                               'AtomStereoCount', 'DefinedAtomStereoCount', 'UndefinedAtomStereoCount',\n",
    "                               'BondStereoCount', 'DefinedBondStereoCount', 'UndefinedBondStereoCount', \n",
    "                               'CovalentUnitCount', 'Volume3D', 'XStericQuadrupole3D', \n",
    "                               'YStericQuadrupole3D', 'ZStericQuadrupole3D', 'FeatureCount3D',\n",
    "                               'FeatureAcceptorCount3D', 'FeatureDonorCount3D', 'FeatureAnionCount3D',\n",
    "                               'FeatureCationCount3D', 'FeatureRingCount3D', 'FeatureHydrophobeCount3D',\n",
    "                               'ConformerModelRMSD3D', 'EffectiveRotorCount3D', 'ConformerCount3D'], \n",
    "    compound, 'name', as_dataframe=True)\n",
    "    #print(temp)\n",
    "    df = pd.concat([ df,temp])\n",
    "df.reindex()\n",
    "df.index = compounds\n",
    "#df.to_csv('compounds.csv')\n",
    "\n",
    "\n",
    "p = pcp.get_properties('IsomericSMILES', 'Aspirin', 'name', searchtype='cid')\n",
    "print(p)\n",
    "print(df)\n",
    "\n",
    "df_cut = df['MolecularWeight'].value_counts()\n",
    "\n",
    "#pcp.Compound.\n",
    "\n",
    "# properties to include additionally\n",
    "\n",
    "\n",
    "import sdf\n",
    "pcp.download('SDF', '5090.sdf', 5090, 'cid')\n",
    "\n",
    "\n",
    "ds_v2 = sdf.load('5090.sdf')\n",
    "\n",
    "a = pcp.get_compounds('Aspirin', 'name', record_type='3d')\n",
    "\n",
    "\n",
    "a.to_dict(properties=['atoms', 'bonds', 'inchi'])\n",
    "\n"
   ]
  },
  {
   "cell_type": "code",
   "execution_count": null,
   "metadata": {},
   "outputs": [],
   "source": []
  }
 ],
 "metadata": {
  "kernelspec": {
   "display_name": "Python 3",
   "language": "python",
   "name": "python3"
  },
  "language_info": {
   "codemirror_mode": {
    "name": "ipython",
    "version": 3
   },
   "file_extension": ".py",
   "mimetype": "text/x-python",
   "name": "python",
   "nbconvert_exporter": "python",
   "pygments_lexer": "ipython3",
   "version": "3.7.2"
  }
 },
 "nbformat": 4,
 "nbformat_minor": 2
}
