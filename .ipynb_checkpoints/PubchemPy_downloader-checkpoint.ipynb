{
 "cells": [
  {
   "cell_type": "code",
<<<<<<< HEAD
   "execution_count": 3,
=======
   "execution_count": 1,
   "metadata": {},
   "outputs": [],
   "source": [
    "import numpy as np\n",
    "import pandas as pd\n",
    "import pubchempy as pcp\n",
    "import matplotlib as plt "
   ]
  },
  {
   "cell_type": "code",
   "execution_count": 4,
   "metadata": {},
   "outputs": [],
   "source": [
    "def compound_finder(compounds, indentity):\n",
    "    '''\n",
    "    Downloads the defined compound properties from Pubchem\n",
    "    \n",
    "    compounds: list of compound identifiers (e.g. names or CIDs)\n",
    "    \n",
    "    identity: 'name', 'cid', ... see PubchemPy documentation for more\n",
    "    '''\n",
    "    \n",
    "    df = pd.DataFrame()\n",
    "    for compound in compounds:\n",
    "        temp = pcp.get_properties(['IUPACName',\n",
    "                                   'CanonicalSMILES',\n",
    "                                   'MolecularFormula', \n",
    "                               'MolecularWeight'], compound, indentity, as_dataframe=True)\n",
    "        #print(temp)\n",
    "        df = pd.concat([ df,temp])\n",
    "    df.reindex()\n",
    "    df.index = compounds\n",
    "    return df"
   ]
  },
  {
   "cell_type": "code",
   "execution_count": 15,
   "metadata": {},
   "outputs": [],
   "source": [
    "def compound_finder_name(compounds):\n",
    "    '''\n",
    "    downloads the compounds based on CID. \n",
    "    coumpounds: list of CIDs (integers).\n",
    "    Use compounds = list(range(from, to))\n",
    "    '''\n",
    "    df = pd.DataFrame()\n",
    "    d = dict()\n",
    "    smiles = []\n",
    "    synonyms = []\n",
    "    for compound in compounds:\n",
    "        c = pcp.Compound.from_cid(compound)\n",
    "        smile = c.canonical_smiles\n",
    "        synonym = c.synonyms\n",
    "        smiles.append(smile)\n",
    "        synonyms.append(synonym)\n",
    "    d['synonym'] = synonyms\n",
    "    d['smiles'] = smiles\n",
    "    \n",
    "    df = pd.DataFrame(d)\n",
    "    return(df)"
   ]
  },
  {
   "cell_type": "code",
   "execution_count": 18,
>>>>>>> 381f192a6afcb859c32c2114bcd058fcf4448e4a
   "metadata": {},
   "outputs": [
    {
     "name": "stdout",
     "output_type": "stream",
     "text": [
<<<<<<< HEAD
      "Collecting pubchempy\n",
      "  Downloading https://files.pythonhosted.org/packages/aa/fb/8de3aa9804b614dbc8dc5c16ed061d819cc360e0ddecda3dcd01c1552339/PubChemPy-1.0.4.tar.gz\n",
      "Building wheels for collected packages: pubchempy\n",
      "  Building wheel for pubchempy (setup.py) ... \u001b[?25ldone\n",
      "\u001b[?25h  Stored in directory: /Users/basilerommes/Library/Caches/pip/wheels/10/4d/51/6b843681a9a5aef35f0d0fbce243de46f85080036e16118752\n",
      "Successfully built pubchempy\n",
      "Installing collected packages: pubchempy\n",
      "Successfully installed pubchempy-1.0.4\n"
=======
      "                Acetyl-DL-carnitine\n",
      "0  CC(=O)OC(CC(=O)[O-])C[N+](C)(C)C\n",
      "  (2-acetyloxy-4-hydroxy-4-oxobutyl)-trimethylazanium\n",
      "0                      CC(=O)OC(CC(=O)O)C[N+](C)(C)C \n"
     ]
    },
    {
     "name": "stderr",
     "output_type": "stream",
     "text": [
      "C:\\Users\\Flemm\\.conda\\envs\\deeplearning\\lib\\site-packages\\ipykernel_launcher.py:9: FutureWarning: Sorting because non-concatenation axis is not aligned. A future version\n",
      "of pandas will change to not sort by default.\n",
      "\n",
      "To accept the future behavior, pass 'sort=False'.\n",
      "\n",
      "To retain the current behavior and silence the warning, pass 'sort=True'.\n",
      "\n",
      "  if __name__ == '__main__':\n"
     ]
    },
    {
     "name": "stdout",
     "output_type": "stream",
     "text": [
      "  5,6-dihydroxycyclohexa-1,3-diene-1-carboxylic acid\n",
      "0                           C1=CC(C(C(=C1)C(=O)O)O)O\n",
      "  (2-acetyloxy-4-hydroxy-4-oxobutyl)-trimethylazanium  \\\n",
      "0                                                NaN    \n",
      "0                      CC(=O)OC(CC(=O)O)C[N+](C)(C)C    \n",
      "0                                                NaN    \n",
      "\n",
      "  5,6-dihydroxycyclohexa-1,3-diene-1-carboxylic acid  \\\n",
      "0                                                NaN   \n",
      "0                                                NaN   \n",
      "0                           C1=CC(C(C(=C1)C(=O)O)O)O   \n",
      "\n",
      "                Acetyl-DL-carnitine  \n",
      "0  CC(=O)OC(CC(=O)[O-])C[N+](C)(C)C  \n",
      "0                               NaN  \n",
      "0                               NaN  \n"
>>>>>>> 381f192a6afcb859c32c2114bcd058fcf4448e4a
     ]
    }
   ],
   "source": [
<<<<<<< HEAD
    "!pip install pubchempy"
=======
    "comps = compound_finder_name([1, 2,3])\n",
    "print(comps)"
   ]
  },
  {
   "cell_type": "code",
   "execution_count": 5,
   "metadata": {},
   "outputs": [],
   "source": [
    "compounds = compound_finder(list(range(1,100)), 'cid')\n"
>>>>>>> 381f192a6afcb859c32c2114bcd058fcf4448e4a
   ]
  },
  {
   "cell_type": "code",
   "execution_count": 6,
   "metadata": {},
   "outputs": [
    {
<<<<<<< HEAD
     "ename": "ModuleNotFoundError",
     "evalue": "No module named 'pubchempy'",
     "output_type": "error",
     "traceback": [
      "\u001b[0;31m-----------------------------------------------------------------\u001b[0m",
      "\u001b[0;31mModuleNotFoundError\u001b[0m             Traceback (most recent call last)",
      "\u001b[0;32m<ipython-input-6-a2e1ab557e01>\u001b[0m in \u001b[0;36m<module>\u001b[0;34m\u001b[0m\n\u001b[1;32m      8\u001b[0m \u001b[0;32mimport\u001b[0m \u001b[0mnumpy\u001b[0m \u001b[0;32mas\u001b[0m \u001b[0mnp\u001b[0m\u001b[0;34m\u001b[0m\u001b[0;34m\u001b[0m\u001b[0m\n\u001b[1;32m      9\u001b[0m \u001b[0;32mimport\u001b[0m \u001b[0mpandas\u001b[0m \u001b[0;32mas\u001b[0m \u001b[0mpd\u001b[0m\u001b[0;34m\u001b[0m\u001b[0;34m\u001b[0m\u001b[0m\n\u001b[0;32m---> 10\u001b[0;31m \u001b[0;32mimport\u001b[0m \u001b[0mpubchempy\u001b[0m \u001b[0;32mas\u001b[0m \u001b[0mpcp\u001b[0m\u001b[0;34m\u001b[0m\u001b[0;34m\u001b[0m\u001b[0m\n\u001b[0m\u001b[1;32m     11\u001b[0m \u001b[0;32mimport\u001b[0m \u001b[0mmatplotlib\u001b[0m \u001b[0;32mas\u001b[0m \u001b[0mplt\u001b[0m\u001b[0;34m\u001b[0m\u001b[0;34m\u001b[0m\u001b[0m\n\u001b[1;32m     12\u001b[0m \u001b[0;34m\u001b[0m\u001b[0m\n",
      "\u001b[0;31mModuleNotFoundError\u001b[0m: No module named 'pubchempy'"
=======
     "name": "stdout",
     "output_type": "stream",
     "text": [
      "                    CanonicalSMILES  \\\n",
      "1  CC(=O)OC(CC(=O)[O-])C[N+](C)(C)C   \n",
      "2     CC(=O)OC(CC(=O)O)C[N+](C)(C)C   \n",
      "3          C1=CC(C(C(=C1)C(=O)O)O)O   \n",
      "4                           CC(CN)O   \n",
      "5              C(C(=O)COP(=O)(O)O)N   \n",
      "\n",
      "                                           IUPACName MolecularFormula  \\\n",
      "1        3-acetyloxy-4-(trimethylazaniumyl)butanoate         C9H17NO4   \n",
      "2     (2-acetyloxy-3-carboxypropyl)-trimethylazanium        C9H18NO4+   \n",
      "3  5,6-dihydroxycyclohexa-1,3-diene-1-carboxylic ...           C7H8O4   \n",
      "4                                 1-aminopropan-2-ol           C3H9NO   \n",
      "5         (3-amino-2-oxopropyl) dihydrogen phosphate         C3H8NO5P   \n",
      "\n",
      "   MolecularWeight  \n",
      "1          203.238  \n",
      "2          204.246  \n",
      "3          156.137  \n",
      "4           75.111  \n",
      "5          169.073  \n"
     ]
    }
   ],
   "source": [
    "print(compounds.head())"
   ]
  },
  {
   "cell_type": "code",
   "execution_count": 3,
   "metadata": {},
   "outputs": [
    {
     "name": "stdout",
     "output_type": "stream",
     "text": [
      "              AtomStereoCount  BondStereoCount  \\\n",
      "Indomethacin                0                0   \n",
      "Aspirin                     0                0   \n",
      "Ibuprofen                   1                0   \n",
      "Paracetamol                 0                0   \n",
      "Diclofenac                  0                0   \n",
      "\n",
      "                                                CanonicalSMILES  Charge  \\\n",
      "Indomethacin  CC1=C(C2=C(N1C(=O)C3=CC=C(C=C3)Cl)C=CC(=C2)OC)...       0   \n",
      "Aspirin                                CC(=O)OC1=CC=CC=C1C(=O)O       0   \n",
      "Ibuprofen                         CC(C)CC1=CC=C(C=C1)C(C)C(=O)O       0   \n",
      "Paracetamol                               CC(=O)NC1=CC=C(C=C1)O       0   \n",
      "Diclofenac             C1=CC=C(C(=C1)CC(=O)O)NC2=C(C=CC=C2Cl)Cl       0   \n",
      "\n",
      "              Complexity  ConformerCount3D  ConformerModelRMSD3D  \\\n",
      "Indomethacin         506                10                   0.8   \n",
      "Aspirin              212                10                   0.6   \n",
      "Ibuprofen            203                 8                   0.6   \n",
      "Paracetamol          139                 2                   0.4   \n",
      "Diclofenac           304                10                   0.6   \n",
      "\n",
      "              CovalentUnitCount  DefinedAtomStereoCount  \\\n",
      "Indomethacin                  1                       0   \n",
      "Aspirin                       1                       0   \n",
      "Ibuprofen                     1                       0   \n",
      "Paracetamol                   1                       0   \n",
      "Diclofenac                    1                       0   \n",
      "\n",
      "              DefinedBondStereoCount  ...  MonoisotopicMass  \\\n",
      "Indomethacin                       0  ...           357.077   \n",
      "Aspirin                            0  ...           180.042   \n",
      "Ibuprofen                          0  ...           206.131   \n",
      "Paracetamol                        0  ...           151.063   \n",
      "Diclofenac                         0  ...           295.017   \n",
      "\n",
      "              RotatableBondCount  TPSA  UndefinedAtomStereoCount  \\\n",
      "Indomethacin                   4  68.5                         0   \n",
      "Aspirin                        3  63.6                         0   \n",
      "Ibuprofen                      4  37.3                         1   \n",
      "Paracetamol                    1  49.3                         0   \n",
      "Diclofenac                     4  49.3                         0   \n",
      "\n",
      "              UndefinedBondStereoCount  Volume3D  XLogP  XStericQuadrupole3D  \\\n",
      "Indomethacin                         0     268.6    4.3                10.01   \n",
      "Aspirin                              0     136.0    1.2                 3.86   \n",
      "Ibuprofen                            0     172.2    3.5                 7.71   \n",
      "Paracetamol                          0     120.2    0.5                 5.89   \n",
      "Diclofenac                           0     214.7    4.4                 7.01   \n",
      "\n",
      "              YStericQuadrupole3D  ZStericQuadrupole3D  \n",
      "Indomethacin                 4.55                 1.04  \n",
      "Aspirin                      2.45                 0.89  \n",
      "Ibuprofen                    1.56                 1.23  \n",
      "Paracetamol                  1.40                 0.59  \n",
      "Diclofenac                   2.75                 1.77  \n",
      "\n",
      "[5 rows x 39 columns]\n"
>>>>>>> 381f192a6afcb859c32c2114bcd058fcf4448e4a
     ]
    }
   ],
   "source": [
<<<<<<< HEAD
    "# -*- coding: utf-8 -*-\n",
    "\"\"\"\n",
    "Created on Thu Feb 21 14:24:54 2019\n",
    "\n",
    "@author: Flemming Morsch\n",
    "\"\"\"\n",
    "\n",
    "import numpy as np\n",
    "import pandas as pd\n",
    "import pubchempy as pcp\n",
    "import matplotlib as plt \n",
    "\n",
    "\n",
    "\n",
    "################################\n",
    "\n",
    "pd.set_option('display.max_columns', None)  # or 1000\n",
    "pd.set_option('display.max_rows', None)  # or 1000\n",
    "pd.set_option('display.max_colwidth', -1)  # or 199\n",
    "\n",
    "\n",
    "\n",
    "\n",
    "\n",
=======
>>>>>>> 381f192a6afcb859c32c2114bcd058fcf4448e4a
    "compounds= ['Indomethacin', 'Aspirin', 'Ibuprofen', 'Paracetamol',\n",
    "            'Diclofenac', 'N-Vinyl-2-pyrrolidone', 'Glycerol', 'Propylene Glycol']\n",
    "df = pd.DataFrame()\n",
    "\n",
    "for compound in compounds:\n",
    "    temp = pcp.get_properties(['MolecularFormula', \n",
    "                               'MolecularWeight', \n",
    "                               'CanonicalSMILES', \n",
    "                               'IsomericSMILES', \n",
    "                               'InChI', 'InChIKey', \n",
    "                               'IUPACName', 'XLogP', 'ExactMass', \n",
    "                               'MonoisotopicMass', 'TPSA', 'Complexity',\n",
    "                               'Charge', 'HBondDonorCount', 'HBondAcceptorCount', \n",
    "                               'RotatableBondCount', 'HeavyAtomCount', 'IsotopeAtomCount',\n",
    "                               'AtomStereoCount', 'DefinedAtomStereoCount', 'UndefinedAtomStereoCount',\n",
    "                               'BondStereoCount', 'DefinedBondStereoCount', 'UndefinedBondStereoCount', \n",
    "                               'CovalentUnitCount', 'Volume3D', 'XStericQuadrupole3D', \n",
    "                               'YStericQuadrupole3D', 'ZStericQuadrupole3D', 'FeatureCount3D',\n",
    "                               'FeatureAcceptorCount3D', 'FeatureDonorCount3D', 'FeatureAnionCount3D',\n",
    "                               'FeatureCationCount3D', 'FeatureRingCount3D', 'FeatureHydrophobeCount3D',\n",
    "                               'ConformerModelRMSD3D', 'EffectiveRotorCount3D', 'ConformerCount3D'], \n",
    "    compound, 'name', as_dataframe=True)\n",
    "    #print(temp)\n",
    "    df = pd.concat([ df,temp])\n",
    "df.reindex()\n",
    "df.index = compounds\n",
<<<<<<< HEAD
    "#df.to_csv('compounds.csv')\n",
    "\n",
    "\n",
    "p = pcp.get_properties('IsomericSMILES', 'Aspirin', 'name', searchtype='cid')\n",
    "print(p)\n",
    "print(df)\n",
    "\n",
    "df_cut = df['MolecularWeight'].value_counts()\n",
    "\n",
    "#pcp.Compound.\n",
    "\n",
    "# properties to include additionally\n",
    "\n",
    "\n",
    "import sdf\n",
    "pcp.download('SDF', '5090.sdf', 5090, 'cid')\n",
    "\n",
    "\n",
    "ds_v2 = sdf.load('5090.sdf')\n",
    "\n",
    "a = pcp.get_compounds('Aspirin', 'name', record_type='3d')\n",
    "\n",
    "\n",
    "a.to_dict(properties=['atoms', 'bonds', 'inchi'])\n",
    "\n"
   ]
  },
  {
   "cell_type": "code",
   "execution_count": null,
   "metadata": {},
   "outputs": [],
   "source": []
=======
    "\n",
    "print(df.head())"
   ]
>>>>>>> 381f192a6afcb859c32c2114bcd058fcf4448e4a
  }
 ],
 "metadata": {
  "kernelspec": {
   "display_name": "Python 3",
   "language": "python",
   "name": "python3"
  },
  "language_info": {
   "codemirror_mode": {
    "name": "ipython",
    "version": 3
   },
   "file_extension": ".py",
   "mimetype": "text/x-python",
   "name": "python",
   "nbconvert_exporter": "python",
   "pygments_lexer": "ipython3",
<<<<<<< HEAD
   "version": "3.7.2"
=======
   "version": "3.7.3"
>>>>>>> 381f192a6afcb859c32c2114bcd058fcf4448e4a
  }
 },
 "nbformat": 4,
 "nbformat_minor": 2
}
