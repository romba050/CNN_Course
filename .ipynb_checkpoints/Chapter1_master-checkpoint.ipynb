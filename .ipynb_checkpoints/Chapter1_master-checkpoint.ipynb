{
 "cells": [
  {
   "cell_type": "markdown",
   "metadata": {},
   "source": [
    "## Welcome\n",
    "This is the first exercise of the Course. \n",
    "\n",
    "To start with, we are going to show you how to access and download chemical inforamtion from the Pubchem database. \n",
    "\n",
    "It is a database widely used in biomedical and pharmaceutical research, where researchers upload their published data\n",
    "\n",
    "Here a [link](https://pubchem.ncbi.nlm.nih.gov/) to the webpage. \n",
    "\n",
    "Luckily, there is a python library available using the pubchem API!! \n",
    "\n"
   ]
  },
  {
   "cell_type": "code",
   "execution_count": 36,
   "metadata": {},
   "outputs": [],
   "source": [
    "# Import the PubchemPy library as pcp. The code to import other neccessary libraries is already written for you.\n",
    "import pubchempy as pcp\n",
    "import pandas as pd\n",
    "from tqdm import tqdm"
   ]
  },
  {
   "cell_type": "markdown",
   "metadata": {},
   "source": [
    "# welcome to the course\n",
    "\n",
    "## Ex1:\n",
    "\n",
    "https://pubchem.ncbi.nlm.nih.gov/compound/Aspirin \n",
    "video - intro pubchempy + \n",
    "\n",
    "import the modules pubchempy, pandas, numpy? "
   ]
  },
  {
   "cell_type": "code",
   "execution_count": 37,
   "metadata": {},
   "outputs": [
    {
     "name": "stdout",
     "output_type": "stream",
     "text": [
      "CC(=O)OC1=CC=CC=C1C(=O)O\n",
      "1.2\n",
      "aspirin\n"
     ]
    }
   ],
   "source": [
    "# script ex1:\n",
    "# first exercise - warm up \n",
    "#import pubchempy as pcp\n",
    "# we're now downloading the record of aspirin\n",
    "c = pcp.Compound.from_cid(2244)  # find aspirin cid\n",
    "# access the SMILES and print it - explained in video above\n",
    "print(c.canonical_smiles)\n",
    "print(c.xlogp)\n",
    "print(c.synonyms[0]) # only access the first element"
   ]
  },
  {
   "cell_type": "code",
   "execution_count": 38,
   "metadata": {},
   "outputs": [],
   "source": [
    "# script ex1: SOLUTION\n",
    "\n",
    "# define downloader function \n",
    "\n",
    "# Basile: rename to download_by_CID ?\n",
    "def compound_finder_name(compounds):\n",
    "    '''\n",
    "    downloads the compounds based on CID. \n",
    "    coumpounds: list of CIDs (integers).\n",
    "    Use compounds = list(range(from, to))\n",
    "    '''\n",
    "    df = pd.DataFrame()\n",
    "    d = dict()\n",
    "    smiles = []\n",
    "    synonyms = []\n",
    "    logPs = []\n",
    "    molecular_formulas = []\n",
    "    for compound in tqdm(compounds):\n",
    "        c = pcp.Compound.from_cid(compound)\n",
    "        smile = c.canonical_smiles\n",
    "        synonym = c.synonyms\n",
    "        logP = c.xlogp\n",
    "        molecular_formula = c.molecular_formula\n",
    "        smiles.append(smile)\n",
    "        synonyms.append(synonym)\n",
    "        logPs.append(logP)\n",
    "        molecular_formulas.append(molecular_formula)\n",
    "        print('compound: ',compound, ' OK')\n",
    "        #d = dict({synonym : [smiles]})\n",
    "    d['synonym'] = synonyms\n",
    "    d['smiles'] = smiles\n",
    "    d['logP'] = logPs\n",
    "    d['molecular_formula'] = molecular_formulas\n",
    "    \n",
    "    df = pd.DataFrame(d)\n",
    "    return(df)\n"
   ]
  },
  {
   "cell_type": "markdown",
   "metadata": {},
   "source": [
    "# script ex1: EXPLANATION\n",
    "\n",
    "\n",
    "initialise the pandas DataFrame called `df`, empty lists for `smiles`, `synonyms` and `logPs` as well as the dictionary `d`\n",
    "This has been done for you.\n",
    "\n",
    "in the for-loop iterate over each `compound` of the `compounds` and access the compounds' `canonical_smiles`\n",
    "        , `synonyms` and `xlogp` properties and add them to their predefined lists. \n",
    "\n",
    "Next, add the lists to the dictionary and convert it to a dataframe. \n"
   ]
  },
  {
   "cell_type": "code",
   "execution_count": 39,
   "metadata": {},
   "outputs": [
    {
     "ename": "SyntaxError",
     "evalue": "invalid syntax (<ipython-input-39-272d673eb31e>, line 17)",
     "output_type": "error",
     "traceback": [
      "\u001b[0;36m  File \u001b[0;32m\"<ipython-input-39-272d673eb31e>\"\u001b[0;36m, line \u001b[0;32m17\u001b[0m\n\u001b[0;31m    smile = c....\u001b[0m\n\u001b[0m               ^\u001b[0m\n\u001b[0;31mSyntaxError\u001b[0m\u001b[0;31m:\u001b[0m invalid syntax\n"
     ]
    }
   ],
   "source": [
    "# to start with, we have to define a function which is downloading the database entry of the desired chemicals\n",
    "# and then retrieving \n",
    "\n",
    "def compound_finder_name(compounds):\n",
    "    '''\n",
    "    downloads the compounds based on CID. \n",
    "    coumpounds: list of CIDs (integers).\n",
    "    Use compounds = list(range(from, to))\n",
    "    '''\n",
    "    df = pd.DataFrame()\n",
    "    d = dict()\n",
    "    smiles = []\n",
    "    synonyms = []\n",
    "    logPs = []\n",
    "    for ... in tqdm(...):\n",
    "        c = pcp.Compound.from_cid(...)\n",
    "        smile = c....\n",
    "        synonym = c....\n",
    "        logP = c....\n",
    "        smiles.append(...)\n",
    "        synonyms.append(...)\n",
    "        logPs.append(...)\n",
    "        print('compound: ',compound, ' OK')\n",
    "        \n",
    "    d['synonym'] = ...\n",
    "    d['smiles'] = ...\n",
    "    d['logP'] = ...\n",
    "    \n",
    "    df = pd.DataFrame(...)\n",
    "    return(df)"
   ]
  },
  {
   "cell_type": "markdown",
   "metadata": {},
   "source": [
    "## Ex2:\n",
    "download for each molecules [show for 5 mole.]: SMILES, synonym, logP\n",
    "might take a few seconds\n",
    "\n",
    "--> intro of package pubchempy"
   ]
  },
  {
   "cell_type": "code",
   "execution_count": 40,
   "metadata": {},
   "outputs": [
    {
     "name": "stderr",
     "output_type": "stream",
     "text": [
      " 20%|██        | 1/5 [00:01<00:04,  1.22s/it]"
     ]
    },
    {
     "name": "stdout",
     "output_type": "stream",
     "text": [
      "compound:  1  OK\n"
     ]
    },
    {
     "name": "stderr",
     "output_type": "stream",
     "text": [
      " 40%|████      | 2/5 [00:02<00:03,  1.27s/it]"
     ]
    },
    {
     "name": "stdout",
     "output_type": "stream",
     "text": [
      "compound:  2  OK\n"
     ]
    },
    {
     "name": "stderr",
     "output_type": "stream",
     "text": [
      " 60%|██████    | 3/5 [00:03<00:02,  1.26s/it]"
     ]
    },
    {
     "name": "stdout",
     "output_type": "stream",
     "text": [
      "compound:  3  OK\n"
     ]
    },
    {
     "name": "stderr",
     "output_type": "stream",
     "text": [
      " 80%|████████  | 4/5 [00:05<00:01,  1.37s/it]"
     ]
    },
    {
     "name": "stdout",
     "output_type": "stream",
     "text": [
      "compound:  4  OK\n"
     ]
    },
    {
     "name": "stderr",
     "output_type": "stream",
     "text": [
      "100%|██████████| 5/5 [00:07<00:00,  1.45s/it]"
     ]
    },
    {
     "name": "stdout",
     "output_type": "stream",
     "text": [
      "compound:  5  OK\n",
      "                                             synonym  \\\n",
      "0  [Acetyl-DL-carnitine, DL-O-Acetylcarnitine, ac...   \n",
      "1  [(2-acetyloxy-4-hydroxy-4-oxobutyl)-trimethyla...   \n",
      "2  [5,6-dihydroxycyclohexa-1,3-diene-1-carboxylic...   \n",
      "3  [1-Aminopropan-2-ol, 1-AMINO-2-PROPANOL, 78-96...   \n",
      "4  [3-Amino-2-oxopropyl phosphate, 3-amino-2-oxop...   \n",
      "\n",
      "                             smiles  logP molecular_formula  \n",
      "0  CC(=O)OC(CC(=O)[O-])C[N+](C)(C)C   0.4          C9H17NO4  \n",
      "1     CC(=O)OC(CC(=O)O)C[N+](C)(C)C  -0.3         C9H18NO4+  \n",
      "2          C1=CC(C(C(=C1)C(=O)O)O)O  -0.3            C7H8O4  \n",
      "3                           CC(CN)O  -1.0            C3H9NO  \n",
      "4              C(C(=O)COP(=O)(O)O)N  -5.0          C3H8NO5P  \n"
     ]
    },
    {
     "name": "stderr",
     "output_type": "stream",
     "text": [
      "\n"
     ]
    }
   ],
   "source": [
    "# script ex2: SOLUTION\n",
    "compounds = list(range(1,6))\n",
    "df = compound_finder_name(compounds) # to test the script only --> let students code the function, but in the 'real' exercise we must provide\n",
    "# a bigger dataset as it takes a loooooong time to download the data from pubchem\n",
    "print(df)"
   ]
  },
  {
   "cell_type": "code",
   "execution_count": 41,
   "metadata": {},
   "outputs": [
    {
     "data": {
      "text/plain": [
       "<re.Match object; span=(0, 2), match='C9'>"
      ]
     },
     "execution_count": 41,
     "metadata": {},
     "output_type": "execute_result"
    }
   ],
   "source": [
    "import re\n",
    "re.search('C\\d+' , df['molecular_formula'][0]) "
   ]
  },
  {
   "cell_type": "code",
   "execution_count": null,
   "metadata": {},
   "outputs": [],
   "source": [
    "#for idx, mf in enumerate(df['molecular_formula']): \n",
    "#    df['num_c'][idx] = int(re.search('C\\d+' , mf).group(0)[1:])\n",
    "#df"
   ]
  },
  {
   "cell_type": "code",
   "execution_count": 44,
   "metadata": {},
   "outputs": [
    {
     "data": {
      "text/html": [
       "<div>\n",
       "<style scoped>\n",
       "    .dataframe tbody tr th:only-of-type {\n",
       "        vertical-align: middle;\n",
       "    }\n",
       "\n",
       "    .dataframe tbody tr th {\n",
       "        vertical-align: top;\n",
       "    }\n",
       "\n",
       "    .dataframe thead th {\n",
       "        text-align: right;\n",
       "    }\n",
       "</style>\n",
       "<table border=\"1\" class=\"dataframe\">\n",
       "  <thead>\n",
       "    <tr style=\"text-align: right;\">\n",
       "      <th></th>\n",
       "      <th>synonym</th>\n",
       "      <th>smiles</th>\n",
       "      <th>logP</th>\n",
       "      <th>molecular_formula</th>\n",
       "      <th>num_c</th>\n",
       "    </tr>\n",
       "  </thead>\n",
       "  <tbody>\n",
       "    <tr>\n",
       "      <th>0</th>\n",
       "      <td>[Acetyl-DL-carnitine, DL-O-Acetylcarnitine, ac...</td>\n",
       "      <td>CC(=O)OC(CC(=O)[O-])C[N+](C)(C)C</td>\n",
       "      <td>0.4</td>\n",
       "      <td>C9H17NO4</td>\n",
       "      <td>9</td>\n",
       "    </tr>\n",
       "    <tr>\n",
       "      <th>1</th>\n",
       "      <td>[(2-acetyloxy-4-hydroxy-4-oxobutyl)-trimethyla...</td>\n",
       "      <td>CC(=O)OC(CC(=O)O)C[N+](C)(C)C</td>\n",
       "      <td>-0.3</td>\n",
       "      <td>C9H18NO4+</td>\n",
       "      <td>9</td>\n",
       "    </tr>\n",
       "    <tr>\n",
       "      <th>2</th>\n",
       "      <td>[5,6-dihydroxycyclohexa-1,3-diene-1-carboxylic...</td>\n",
       "      <td>C1=CC(C(C(=C1)C(=O)O)O)O</td>\n",
       "      <td>-0.3</td>\n",
       "      <td>C7H8O4</td>\n",
       "      <td>7</td>\n",
       "    </tr>\n",
       "    <tr>\n",
       "      <th>3</th>\n",
       "      <td>[1-Aminopropan-2-ol, 1-AMINO-2-PROPANOL, 78-96...</td>\n",
       "      <td>CC(CN)O</td>\n",
       "      <td>-1.0</td>\n",
       "      <td>C3H9NO</td>\n",
       "      <td>3</td>\n",
       "    </tr>\n",
       "    <tr>\n",
       "      <th>4</th>\n",
       "      <td>[3-Amino-2-oxopropyl phosphate, 3-amino-2-oxop...</td>\n",
       "      <td>C(C(=O)COP(=O)(O)O)N</td>\n",
       "      <td>-5.0</td>\n",
       "      <td>C3H8NO5P</td>\n",
       "      <td>3</td>\n",
       "    </tr>\n",
       "  </tbody>\n",
       "</table>\n",
       "</div>"
      ],
      "text/plain": [
       "                                             synonym  \\\n",
       "0  [Acetyl-DL-carnitine, DL-O-Acetylcarnitine, ac...   \n",
       "1  [(2-acetyloxy-4-hydroxy-4-oxobutyl)-trimethyla...   \n",
       "2  [5,6-dihydroxycyclohexa-1,3-diene-1-carboxylic...   \n",
       "3  [1-Aminopropan-2-ol, 1-AMINO-2-PROPANOL, 78-96...   \n",
       "4  [3-Amino-2-oxopropyl phosphate, 3-amino-2-oxop...   \n",
       "\n",
       "                             smiles  logP molecular_formula  num_c  \n",
       "0  CC(=O)OC(CC(=O)[O-])C[N+](C)(C)C   0.4          C9H17NO4      9  \n",
       "1     CC(=O)OC(CC(=O)O)C[N+](C)(C)C  -0.3         C9H18NO4+      9  \n",
       "2          C1=CC(C(C(=C1)C(=O)O)O)O  -0.3            C7H8O4      7  \n",
       "3                           CC(CN)O  -1.0            C3H9NO      3  \n",
       "4              C(C(=O)COP(=O)(O)O)N  -5.0          C3H8NO5P      3  "
      ]
     },
     "execution_count": 44,
     "metadata": {},
     "output_type": "execute_result"
    }
   ],
   "source": [
    "# do regex search for C with 1 or more digits following it\n",
    "# apply lambda function on df over axis 1 (= for a column), with lambda taking each row element as argument\n",
    "# re.search returns a match object whose string we access via group(0) (e.g. 'C12') \n",
    "# remove first char of string i.e. the 'C' and cast the remaining number string to int\n",
    "df['num_c'] = df.apply(lambda row: int(re.search('C\\d+' , row.molecular_formula).group(0)[1:]), axis = 1)\n",
    "df"
   ]
  },
  {
   "cell_type": "code",
   "execution_count": 32,
   "metadata": {},
   "outputs": [
    {
     "ename": "TypeError",
     "evalue": "expected string or bytes-like object",
     "output_type": "error",
     "traceback": [
      "\u001b[0;31m---------------------------------------------------------------------------\u001b[0m",
      "\u001b[0;31mTypeError\u001b[0m                                 Traceback (most recent call last)",
      "\u001b[0;32m<ipython-input-32-b7c6ff6a38c2>\u001b[0m in \u001b[0;36m<module>\u001b[0;34m\u001b[0m\n\u001b[0;32m----> 1\u001b[0;31m \u001b[0mdf\u001b[0m\u001b[0;34m[\u001b[0m\u001b[0;34m'num_c'\u001b[0m\u001b[0;34m]\u001b[0m \u001b[0;34m=\u001b[0m \u001b[0mint\u001b[0m\u001b[0;34m(\u001b[0m\u001b[0mre\u001b[0m\u001b[0;34m.\u001b[0m\u001b[0msearch\u001b[0m\u001b[0;34m(\u001b[0m\u001b[0;34m'C\\d+'\u001b[0m \u001b[0;34m,\u001b[0m \u001b[0mdf\u001b[0m\u001b[0;34m[\u001b[0m\u001b[0;34m'molecular_formula'\u001b[0m\u001b[0;34m]\u001b[0m\u001b[0;34m)\u001b[0m\u001b[0;34m.\u001b[0m\u001b[0mgroup\u001b[0m\u001b[0;34m(\u001b[0m\u001b[0;36m0\u001b[0m\u001b[0;34m)\u001b[0m\u001b[0;34m[\u001b[0m\u001b[0;36m1\u001b[0m\u001b[0;34m:\u001b[0m\u001b[0;34m]\u001b[0m\u001b[0;34m)\u001b[0m\u001b[0;34m\u001b[0m\u001b[0;34m\u001b[0m\u001b[0m\n\u001b[0m",
      "\u001b[0;32m/anaconda3/envs/online_teaching/lib/python3.7/re.py\u001b[0m in \u001b[0;36msearch\u001b[0;34m(pattern, string, flags)\u001b[0m\n\u001b[1;32m    181\u001b[0m     \"\"\"Scan through string looking for a match to the pattern, returning\n\u001b[1;32m    182\u001b[0m     a Match object, or None if no match was found.\"\"\"\n\u001b[0;32m--> 183\u001b[0;31m     \u001b[0;32mreturn\u001b[0m \u001b[0m_compile\u001b[0m\u001b[0;34m(\u001b[0m\u001b[0mpattern\u001b[0m\u001b[0;34m,\u001b[0m \u001b[0mflags\u001b[0m\u001b[0;34m)\u001b[0m\u001b[0;34m.\u001b[0m\u001b[0msearch\u001b[0m\u001b[0;34m(\u001b[0m\u001b[0mstring\u001b[0m\u001b[0;34m)\u001b[0m\u001b[0;34m\u001b[0m\u001b[0;34m\u001b[0m\u001b[0m\n\u001b[0m\u001b[1;32m    184\u001b[0m \u001b[0;34m\u001b[0m\u001b[0m\n\u001b[1;32m    185\u001b[0m \u001b[0;32mdef\u001b[0m \u001b[0msub\u001b[0m\u001b[0;34m(\u001b[0m\u001b[0mpattern\u001b[0m\u001b[0;34m,\u001b[0m \u001b[0mrepl\u001b[0m\u001b[0;34m,\u001b[0m \u001b[0mstring\u001b[0m\u001b[0;34m,\u001b[0m \u001b[0mcount\u001b[0m\u001b[0;34m=\u001b[0m\u001b[0;36m0\u001b[0m\u001b[0;34m,\u001b[0m \u001b[0mflags\u001b[0m\u001b[0;34m=\u001b[0m\u001b[0;36m0\u001b[0m\u001b[0;34m)\u001b[0m\u001b[0;34m:\u001b[0m\u001b[0;34m\u001b[0m\u001b[0;34m\u001b[0m\u001b[0m\n",
      "\u001b[0;31mTypeError\u001b[0m: expected string or bytes-like object"
     ]
    }
   ],
   "source": [
    "df['num_c'] = int(re.search('C\\d+' , df['molecular_formula']).group(0)[1:])"
   ]
  },
  {
   "cell_type": "code",
   "execution_count": 25,
   "metadata": {},
   "outputs": [
    {
     "name": "stdout",
     "output_type": "stream",
     "text": [
      "<re.Match object; span=(0, 4), match='C103'>\n"
     ]
    }
   ],
   "source": [
    "m = re.search('C\\d+' , \"C103N4\")\n",
    "print(m)"
   ]
  },
  {
   "cell_type": "code",
   "execution_count": 28,
   "metadata": {},
   "outputs": [
    {
     "data": {
      "text/plain": [
       "103"
      ]
     },
     "execution_count": 28,
     "metadata": {},
     "output_type": "execute_result"
    }
   ],
   "source": [
    "int(re.search('C\\d+' , \"C103N4\").group(0)[1:])"
   ]
  },
  {
   "cell_type": "markdown",
   "metadata": {},
   "source": [
    "# script ex2: EXPLANATION\n",
    "\n",
    "Define the list `compounds` including the integers 1 to 5 and apply your `compound_finder_name()` function on it.  \n"
   ]
  },
  {
   "cell_type": "code",
   "execution_count": null,
   "metadata": {},
   "outputs": [],
   "source": [
    "compounds = ...\n",
    "df = compound_finder_name(...) # to test the script only --> let students code the function, but in the 'real' exercise we must provide\n",
    "# a bigger dataset as it takes a loooooong time to download the data from pubchem\n",
    "print(df)"
   ]
  },
  {
   "cell_type": "markdown",
   "metadata": {},
   "source": [
    "## Ex3:\n",
    "import matplotlib\n",
    "load real dataset via csv\n",
    "\n",
    "write script for "
   ]
  },
  {
   "cell_type": "code",
   "execution_count": null,
   "metadata": {},
   "outputs": [],
   "source": [
    "logP describes lipop/hydrophilicity\n",
    "0 -> neutral\n",
    "< 0 -> hydrophile\n",
    "> 0 -> lipophile"
   ]
  },
  {
   "cell_type": "markdown",
   "metadata": {},
   "source": [
    "# Ex4:\n",
    "write number of c-atoms function\n",
    "the more C-atoms are in a molecule the higher it's lipophilty (high logP)\n"
   ]
  },
  {
   "cell_type": "code",
   "execution_count": null,
   "metadata": {},
   "outputs": [],
   "source": [
    "import re\n",
    "def find_num_C_atoms(smile):\n",
    "    return len([match for match in re.finditer('C', smile)])\n",
    "print(find_num_C_atoms('CCC1H-CC1N'))\n",
    "print(find_num_C_atoms('CCC1H-ioCC1NCC'))\n",
    "print(find_num_C_atoms(''))"
   ]
  },
  {
   "cell_type": "markdown",
   "metadata": {},
   "source": [
    "# Ex5: \n",
    "scatter plot with #C-atoms vs. LogP"
   ]
  },
  {
   "cell_type": "markdown",
   "metadata": {},
   "source": [
    "# Ex6:\n",
    "write # of rings function --> cluster plot from above \n",
    "\n",
    "In drug discovery, molecules with rings structures are of special interes+t. They use their ring structure to fit to cell receptors.\n",
    "Filter for ringstructures with the provided function."
   ]
  },
  {
   "cell_type": "code",
   "execution_count": null,
   "metadata": {},
   "outputs": [],
   "source": [
    "def contains_ringstruct(smiles):\n",
    "    return re.search('C\\d', smiles)\n",
    "\n",
    "ring = pd.DataFrame()\n",
    "non_ring = pd.DataFrame()\n",
    "for idx, row in tqdm(compounds.iterrows()):\n",
    "    if contains_ringstruct(row['CanonicalSMILES']):\n",
    "        #pdb.set_trace()\n",
    "        # ignore_index=True to start counting index anew instead of copying the original index \n",
    "        ring = ring.append(row, ignore_index=True)\n",
    "    else:\n",
    "        non_ring = non_ring.append(row, ignore_index=True)\n",
    "print(f\"## ring: ##\\n\\n{ring}\")\n",
    "print()\n",
    "print(f\"## non_ring: ##\\n\\n{non_ring}\")"
   ]
  },
  {
   "cell_type": "code",
   "execution_count": null,
   "metadata": {},
   "outputs": [],
   "source": []
  }
 ],
 "metadata": {
  "kernelspec": {
   "display_name": "Python 3",
   "language": "python",
   "name": "python3"
  },
  "language_info": {
   "codemirror_mode": {
    "name": "ipython",
    "version": 3
   },
   "file_extension": ".py",
   "mimetype": "text/x-python",
   "name": "python",
   "nbconvert_exporter": "python",
   "pygments_lexer": "ipython3",
   "version": "3.7.3"
  }
 },
 "nbformat": 4,
 "nbformat_minor": 2
}
