{
 "cells": [
  {
   "cell_type": "markdown",
   "metadata": {},
   "source": [
    "## Welcome\n",
    "This is the first exercise of the Course. \n",
    "\n",
    "To start with, we are going to show you how to access and download chemical inforamtion from the Pubchem database. \n",
    "\n",
    "It is a database widely used in biomedical and pharmaceutical research, where researchers upload their published data\n",
    "\n",
    "Here a [link](https://pubchem.ncbi.nlm.nih.gov/) to the webpage. \n",
    "\n",
    "Luckily, there is a python library available using the pubchem API!! \n",
    "\n"
   ]
  },
  {
   "cell_type": "code",
   "execution_count": 1,
   "metadata": {},
   "outputs": [],
   "source": [
    "# Import the PubchemPy library as pcp. The code to import other neccessary libraries is already written for you.\n",
    "import pubchempy as pcp\n",
    "import pandas as pd\n",
    "from tqdm import tqdm"
   ]
  },
  {
   "cell_type": "markdown",
   "metadata": {},
   "source": [
    "# welcome to the course\n",
    "\n",
    "## Ex1:\n",
    "\n",
    "https://pubchem.ncbi.nlm.nih.gov/compound/Aspirin \n",
    "video - intro pubchempy + \n",
    "\n",
    "import the modules pubchempy, pandas, numpy? "
   ]
  },
  {
   "cell_type": "code",
   "execution_count": 2,
   "metadata": {},
   "outputs": [
    {
     "name": "stdout",
     "output_type": "stream",
     "text": [
      "CC(=O)OC1=CC=CC=C1C(=O)O\n",
      "1.2\n",
      "aspirin\n"
     ]
    }
   ],
   "source": [
    "# script ex1:\n",
    "# first exercise - warm up \n",
    "#import pubchempy as pcp\n",
    "# we're now downloading the record of aspirin\n",
    "c = pcp.Compound.from_cid(2244)  # find aspirin cid\n",
    "# access the SMILES and print it - explained in video above\n",
    "print(c.canonical_smiles)\n",
    "print(c.xlogp)\n",
    "print(c.synonyms[0]) # only access the first element"
   ]
  },
  {
   "cell_type": "code",
   "execution_count": 3,
   "metadata": {},
   "outputs": [],
   "source": [
    "# script ex1: SOLUTION\n",
    "\n",
    "# define downloader function \n",
    "\n",
    "# Basile: rename to download_by_CID ?\n",
    "def compound_finder_name(compounds):\n",
    "    '''\n",
    "    downloads the compounds based on CID. \n",
    "    coumpounds: list of CIDs (integers).\n",
    "    Use compounds = list(range(from, to))\n",
    "    '''\n",
    "    df = pd.DataFrame()\n",
    "    d = dict()\n",
    "    smiles = []\n",
    "    synonyms = []\n",
    "    logPs = []\n",
    "    for compound in tqdm(compounds):\n",
    "        c = pcp.Compound.from_cid(compound)\n",
    "        smile = c.canonical_smiles\n",
    "        synonym = c.synonyms\n",
    "        logP = c.xlogp\n",
    "        smiles.append(smile)\n",
    "        synonyms.append(synonym)\n",
    "        logPs.append(logP)\n",
    "        print('compound: ',compound, ' OK')\n",
    "        #d = dict({synonym : [smiles]})\n",
    "    d['synonym'] = synonyms\n",
    "    d['smiles'] = smiles\n",
    "    d['logP'] = logPs\n",
    "    \n",
    "    df = pd.DataFrame(d)\n",
    "    return(df)\n"
   ]
  },
  {
   "cell_type": "markdown",
   "metadata": {},
   "source": [
    "# script ex1: EXPLANATION\n",
    "\n",
    "\n",
    "initialise the pandas DataFrame called `df`, empty lists for `smiles`, `synonyms` and `logPs` as well as the dictionary `d`\n",
    "This has been done for you.\n",
    "\n",
    "in the for-loop iterate over each `compound` of the `compounds` and access the compounds' `canonical_smiles`\n",
    "        , `synonyms` and `xlogp` properties and add them to their predefined lists. \n",
    "\n",
    "Next, add the lists to the dictionary and convert it to a dataframe. \n"
   ]
  },
  {
   "cell_type": "code",
   "execution_count": 4,
   "metadata": {},
   "outputs": [
    {
     "ename": "SyntaxError",
     "evalue": "invalid syntax (<ipython-input-4-272d673eb31e>, line 17)",
     "output_type": "error",
     "traceback": [
      "\u001b[0;36m  File \u001b[0;32m\"<ipython-input-4-272d673eb31e>\"\u001b[0;36m, line \u001b[0;32m17\u001b[0m\n\u001b[0;31m    smile = c....\u001b[0m\n\u001b[0m               ^\u001b[0m\n\u001b[0;31mSyntaxError\u001b[0m\u001b[0;31m:\u001b[0m invalid syntax\n"
     ]
    }
   ],
   "source": [
    "# to start with, we have to define a function which is downloading the database entry of the desired chemicals\n",
    "# and then retrieving \n",
    "\n",
    "def compound_finder_name(compounds):\n",
    "    '''\n",
    "    downloads the compounds based on CID. \n",
    "    coumpounds: list of CIDs (integers).\n",
    "    Use compounds = list(range(from, to))\n",
    "    '''\n",
    "    df = pd.DataFrame()\n",
    "    d = dict()\n",
    "    smiles = []\n",
    "    synonyms = []\n",
    "    logPs = []\n",
    "    for ... in tqdm(...):\n",
    "        c = pcp.Compound.from_cid(...)\n",
    "        smile = c....\n",
    "        synonym = c....\n",
    "        logP = c....\n",
    "        smiles.append(...)\n",
    "        synonyms.append(...)\n",
    "        logPs.append(...)\n",
    "        print('compound: ',compound, ' OK')\n",
    "        \n",
    "    d['synonym'] = ...\n",
    "    d['smiles'] = ...\n",
    "    d['logP'] = ...\n",
    "    \n",
    "    df = pd.DataFrame(...)\n",
    "    return(df)"
   ]
  },
  {
   "cell_type": "markdown",
   "metadata": {},
   "source": [
    "## Ex2:\n",
    "download for each molecules [show for 5 mole.]: SMILES, synonym, logP\n",
    "might take a few seconds\n",
    "\n",
    "--> intro of package pubchempy"
   ]
  },
  {
   "cell_type": "code",
   "execution_count": null,
   "metadata": {},
   "outputs": [],
   "source": [
    "# script ex2: SOLUTION\n",
    "compounds = list(range(1,6))\n",
    "df = compound_finder_name(compounds) # to test the script only --> let students code the function, but in the 'real' exercise we must provide\n",
    "# a bigger dataset as it takes a loooooong time to download the data from pubchem\n",
    "print(df)"
   ]
  },
  {
   "cell_type": "markdown",
   "metadata": {},
   "source": [
    "# script ex2: EXPLANATION\n",
    "\n",
    "Define the list `compounds` including the integers 1 to 5 and apply your `compound_finder_name()` function on it.  \n"
   ]
  },
  {
   "cell_type": "code",
   "execution_count": null,
   "metadata": {},
   "outputs": [],
   "source": [
    "compounds = ...\n",
    "df = compound_finder_name(...) # to test the script only --> let students code the function, but in the 'real' exercise we must provide\n",
    "# a bigger dataset as it takes a loooooong time to download the data from pubchem\n",
    "print(df)"
   ]
  },
  {
   "cell_type": "markdown",
   "metadata": {},
   "source": [
    "## Ex3:\n",
    "import matplotlib\n",
    "load real dataset via csv\n",
    "\n",
    "write script for "
   ]
  },
  {
   "cell_type": "code",
   "execution_count": null,
   "metadata": {},
   "outputs": [],
   "source": [
    "logP describes lipop/hydrophilicity\n",
    "0 -> neutral\n",
    "< 0 -> hydrophile\n",
    "> 0 -> lipophile"
   ]
  },
  {
   "cell_type": "markdown",
   "metadata": {},
   "source": [
    "# Ex4:\n",
    "write number of c-atoms function\n",
    "the more C-atoms are in a molecule the higher it's lipophilty (high logP)\n"
   ]
  },
  {
   "cell_type": "code",
   "execution_count": null,
   "metadata": {},
   "outputs": [],
   "source": [
    "import re\n",
    "def find_num_C_atoms(smile):\n",
    "    return len([match for match in re.finditer('C', smile)])\n",
    "print(find_num_C_atoms('CCC1H-CC1N'))\n",
    "print(find_num_C_atoms('CCC1H-CC1NCC'))\n",
    "print(find_num_C_atoms(''))"
   ]
  },
  {
   "cell_type": "markdown",
   "metadata": {},
   "source": [
    "# Ex5: \n",
    "scatter plot with #C-atoms vs. LogP"
   ]
  },
  {
   "cell_type": "markdown",
   "metadata": {},
   "source": [
    "# Ex6:\n",
    "write # of rings function --> cluster plot from above \n",
    "\n",
    "In drug discovery, molecules with rings structures are of special interes+t. They use their ring structure to fit to cell receptors.\n",
    "Filter for ringstructures with the provided function."
   ]
  },
  {
   "cell_type": "code",
   "execution_count": null,
   "metadata": {},
   "outputs": [],
   "source": [
    "def contains_ringstruct(smiles):\n",
    "    return re.search('C\\d', smiles)\n",
    "\n",
    "ring = pd.DataFrame()\n",
    "non_ring = pd.DataFrame()\n",
    "for idx, row in tqdm(compounds.iterrows()):\n",
    "    if contains_ringstruct(row['CanonicalSMILES']):\n",
    "        #pdb.set_trace()\n",
    "        # ignore_index=True to start counting index anew instead of copying the original index \n",
    "        ring = ring.append(row, ignore_index=True)\n",
    "    else:\n",
    "        non_ring = non_ring.append(row, ignore_index=True)\n",
    "print(f\"## ring: ##\\n\\n{ring}\")\n",
    "print()\n",
    "print(f\"## non_ring: ##\\n\\n{non_ring}\")"
   ]
  },
  {
   "cell_type": "code",
   "execution_count": null,
   "metadata": {},
   "outputs": [],
   "source": []
  }
 ],
 "metadata": {
  "kernelspec": {
   "display_name": "Python 3",
   "language": "python",
   "name": "python3"
  },
  "language_info": {
   "codemirror_mode": {
    "name": "ipython",
    "version": 3
   },
   "file_extension": ".py",
   "mimetype": "text/x-python",
   "name": "python",
   "nbconvert_exporter": "python",
   "pygments_lexer": "ipython3",
   "version": "3.7.3"
  }
 },
 "nbformat": 4,
 "nbformat_minor": 2
}
