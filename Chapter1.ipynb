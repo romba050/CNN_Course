{
 "cells": [
  {
   "cell_type": "markdown",
   "metadata": {},
   "source": [
    "## Welcome\n",
    "This is the first exercise of the Course. \n",
    "\n",
    "To start with, we are going to show you how to access and download chemical inforamtion from the Pubchem database. \n",
    "\n",
    "It is a database widely used in biomedical and pharmaceutical research, where researchers upload their published data\n",
    "\n",
    "Here a [link](https://pubchem.ncbi.nlm.nih.gov/) to the webpage. \n",
    "\n",
    "Luckily, there is a python library available using the pubchem API!! \n",
    "\n"
   ]
  },
  {
   "cell_type": "code",
   "execution_count": 8,
   "metadata": {},
   "outputs": [],
   "source": [
    "# Import the PubchemPy library as pcp. The code to import other neccessary libraries is already written for you.\n",
    "import pubchempy as pcp\n",
    "import pandas as pd\n",
    "from tqdm import tqdm"
   ]
  },
  {
   "cell_type": "markdown",
   "metadata": {},
   "source": [
    "# welcome to the course\n",
    "\n",
    "## Ex1:\n",
    "\n",
    "https://pubchem.ncbi.nlm.nih.gov/compound/Aspirin \n",
    "video - intro pubchempy + \n",
    "\n",
    "import the modules pubchempy, pandas, numpy? "
   ]
  },
  {
   "cell_type": "code",
   "execution_count": 11,
   "metadata": {},
   "outputs": [
    {
     "name": "stdout",
     "output_type": "stream",
     "text": [
      "CC(=O)OC1=CC=CC=C1C(=O)O\n",
      "1.2\n",
      "aspirin\n"
     ]
    }
   ],
   "source": [
    "# script ex1:\n",
    "# first exercise - warm up \n",
    "#import pubchempy as pcp\n",
    "# we're now downloading the record of aspirin\n",
    "c = pcp.Compound.from_cid(2244)  # find aspirin cid\n",
    "# access the SMILES and print it - explained in video above\n",
    "print(c.canonical_smiles)\n",
    "print(c.xlogp)\n",
    "print(c.synonyms[0]) # only access the first element"
   ]
  },
  {
   "cell_type": "code",
   "execution_count": 9,
   "metadata": {},
   "outputs": [],
   "source": [
    "# script ex1: SOLUTION\n",
    "\n",
    "# define downloader function \n",
    "\n",
    "# Basile: rename to download_by_CID ?\n",
    "def compound_finder_name(compounds):\n",
    "    '''\n",
    "    downloads the compounds based on CID. \n",
    "    coumpounds: list of CIDs (integers).\n",
    "    Use compounds = list(range(from, to))\n",
    "    '''\n",
    "    df = pd.DataFrame()\n",
    "    d = dict()\n",
    "    smiles = []\n",
    "    synonyms = []\n",
    "    logPs = []\n",
    "    for compound in tqdm(compounds):\n",
    "        c = pcp.Compound.from_cid(compound)\n",
    "        smile = c.canonical_smiles\n",
    "        synonym = c.synonyms\n",
    "        logP = c.xlogp\n",
    "        smiles.append(smile)\n",
    "        synonyms.append(synonym)\n",
    "        logPs.append(logP)\n",
    "        print('compound: ',compound, ' OK')\n",
    "        #d = dict({synonym : [smiles]})\n",
    "    d['synonym'] = synonyms\n",
    "    d['smiles'] = smiles\n",
    "    d['logP'] = logPs\n",
    "    \n",
    "    df = pd.DataFrame(d)\n",
    "    return(df)\n"
   ]
  },
  {
   "cell_type": "markdown",
   "metadata": {},
   "source": [
    "# script ex1: EXPLANATION\n",
    "\n",
    "\n",
    "initialise the pandas DataFrame called `df`, empty lists for `smiles`, `synonyms` and `logPs` as well as the dictionary `d`\n",
    "This has been done for you.\n",
    "\n",
    "in the for-loop iterate over each `compound` of the `compounds` and access the compounds' `canonical_smiles`\n",
    "        , `synonyms` and `xlogp` properties and add them to their predefined lists. \n",
    "\n",
    "Next, add the lists to the dictionary and convert it to a dataframe. \n"
   ]
  },
  {
   "cell_type": "code",
   "execution_count": 12,
   "metadata": {},
   "outputs": [
    {
     "ename": "SyntaxError",
     "evalue": "invalid syntax (<ipython-input-12-272d673eb31e>, line 17)",
     "output_type": "error",
     "traceback": [
      "\u001b[1;36m  File \u001b[1;32m\"<ipython-input-12-272d673eb31e>\"\u001b[1;36m, line \u001b[1;32m17\u001b[0m\n\u001b[1;33m    smile = c....\u001b[0m\n\u001b[1;37m               ^\u001b[0m\n\u001b[1;31mSyntaxError\u001b[0m\u001b[1;31m:\u001b[0m invalid syntax\n"
     ]
    }
   ],
   "source": [
    "# to start with, we have to define a function which is downloading the database entry of the desired chemicals\n",
    "# and then retrieving \n",
    "\n",
    "def compound_finder_name(compounds):\n",
    "    '''\n",
    "    downloads the compounds based on CID. \n",
    "    coumpounds: list of CIDs (integers).\n",
    "    Use compounds = list(range(from, to))\n",
    "    '''\n",
    "    df = pd.DataFrame()\n",
    "    d = dict()\n",
    "    smiles = []\n",
    "    synonyms = []\n",
    "    logPs = []\n",
    "    for ... in tqdm(...):\n",
    "        c = pcp.Compound.from_cid(...)\n",
    "        smile = c....\n",
    "        synonym = c....\n",
    "        logP = c....\n",
    "        smiles.append(...)\n",
    "        synonyms.append(...)\n",
    "        logPs.append(...)\n",
    "        print('compound: ',compound, ' OK')\n",
    "        \n",
    "    d['synonym'] = ...\n",
    "    d['smiles'] = ...\n",
    "    d['logP'] = ...\n",
    "    \n",
    "    df = pd.DataFrame(...)\n",
    "    return(df)"
   ]
  },
  {
   "cell_type": "markdown",
   "metadata": {},
   "source": [
    "## Ex2:\n",
    "download for each molecules [show for 5 mole.]: SMILES, synonym, logP\n",
    "might take a few seconds\n",
    "\n",
    "--> intro of package pubchempy"
   ]
  },
  {
   "cell_type": "code",
   "execution_count": 10,
   "metadata": {},
   "outputs": [
    {
     "name": "stderr",
     "output_type": "stream",
     "text": [
      "  0%|          | 0/5 [00:00<?, ?it/s]"
     ]
    },
    {
     "name": "stdout",
     "output_type": "stream",
     "text": [
      "compound:  1  OK\n"
     ]
    },
    {
     "name": "stderr",
     "output_type": "stream",
     "text": [
      " 20%|██        | 1/5 [00:01<00:05,  1.38s/it]"
     ]
    },
    {
     "name": "stdout",
     "output_type": "stream",
     "text": [
      "compound:  2  OK\n"
     ]
    },
    {
     "name": "stderr",
     "output_type": "stream",
     "text": [
      " 40%|████      | 2/5 [00:02<00:04,  1.34s/it]"
     ]
    },
    {
     "name": "stdout",
     "output_type": "stream",
     "text": [
      "compound:  3  OK\n"
     ]
    },
    {
     "name": "stderr",
     "output_type": "stream",
     "text": [
      " 60%|██████    | 3/5 [00:04<00:02,  1.39s/it]"
     ]
    },
    {
     "name": "stdout",
     "output_type": "stream",
     "text": [
      "compound:  4  OK\n"
     ]
    },
    {
     "name": "stderr",
     "output_type": "stream",
     "text": [
      " 80%|████████  | 4/5 [00:05<00:01,  1.33s/it]"
     ]
    },
    {
     "name": "stdout",
     "output_type": "stream",
     "text": [
      "compound:  5  OK\n"
     ]
    },
    {
     "name": "stderr",
     "output_type": "stream",
     "text": [
      "100%|██████████| 5/5 [00:06<00:00,  1.29s/it]\n"
     ]
    },
    {
     "name": "stdout",
     "output_type": "stream",
     "text": [
      "                                             synonym  \\\n",
      "0  [Acetyl-DL-carnitine, DL-O-Acetylcarnitine, ac...   \n",
      "1  [(2-acetyloxy-4-hydroxy-4-oxobutyl)-trimethyla...   \n",
      "2  [5,6-dihydroxycyclohexa-1,3-diene-1-carboxylic...   \n",
      "3  [1-Aminopropan-2-ol, 1-AMINO-2-PROPANOL, 78-96...   \n",
      "4  [3-Amino-2-oxopropyl phosphate, 3-amino-2-oxop...   \n",
      "\n",
      "                             smiles  logP  \n",
      "0  CC(=O)OC(CC(=O)[O-])C[N+](C)(C)C   0.4  \n",
      "1     CC(=O)OC(CC(=O)O)C[N+](C)(C)C  -0.3  \n",
      "2          C1=CC(C(C(=C1)C(=O)O)O)O  -0.3  \n",
      "3                           CC(CN)O  -1.0  \n",
      "4              C(C(=O)COP(=O)(O)O)N  -5.0  \n"
     ]
    }
   ],
   "source": [
    "# script ex2: SOLUTION\n",
    "compounds = list(range(1,6))\n",
    "df = compound_finder_name(compounds) # to test the script only --> let students code the function, but in the 'real' exercise we must provide\n",
    "# a bigger dataset as it takes a loooooong time to download the data from pubchem\n",
    "print(df)"
   ]
  },
  {
   "cell_type": "markdown",
   "metadata": {},
   "source": [
    "# script ex2: EXPLANATION\n",
    "\n",
    "Define the list `compounds` including the integers 1 to 5 and apply your `compound_finder_name()` function on it.  \n"
   ]
  },
  {
   "cell_type": "code",
   "execution_count": null,
   "metadata": {},
   "outputs": [],
   "source": [
    "compounds = ...\n",
    "df = compound_finder_name(...) # to test the script only --> let students code the function, but in the 'real' exercise we must provide\n",
    "# a bigger dataset as it takes a loooooong time to download the data from pubchem\n",
    "print(df)"
   ]
  },
  {
   "cell_type": "markdown",
   "metadata": {},
   "source": [
    "## Ex3:\n",
    "import matplotlib\n",
    "load real dataset via csv\n",
    "\n",
    "write script for "
   ]
  },
  {
   "cell_type": "code",
   "execution_count": null,
   "metadata": {},
   "outputs": [],
   "source": [
    "logP describes lipop/hydrophilicity\n",
    "0 -> neutral\n",
    "< 0 -> hydrophile\n",
    "> 0 -> lipophile"
   ]
  },
  {
   "cell_type": "markdown",
   "metadata": {},
   "source": [
    "# Ex4:\n",
    "write number of c-atoms function\n",
    "the more C-atoms are in a molecule the higher it's lipophilty (high logP)\n"
   ]
  },
  {
   "cell_type": "code",
   "execution_count": null,
   "metadata": {},
   "outputs": [],
   "source": [
    "import re\n",
    "def find_num_C_atoms(smile):\n",
    "    return len([match for match in re.finditer('C', smile)])\n",
    "print(find_num_C_atoms('CCC1H-CC1N'))\n",
    "print(find_num_C_atoms('CCC1H-CC1NCC'))\n",
    "print(find_num_C_atoms(''))"
   ]
  },
  {
   "cell_type": "markdown",
   "metadata": {},
   "source": [
    "# Ex5: \n",
    "scatter plot with #C-atoms vs. LogP"
   ]
  },
  {
   "cell_type": "markdown",
   "metadata": {},
   "source": [
    "# Ex6:\n",
    "write # of rings function --> cluster plot from above \n",
    "\n",
    "In drug discovery, molecules with rings structures are of special interes+t. They use their ring structure to fit to cell receptors.\n",
    "Filter for ringstructures with the provided function."
   ]
  }
 ],
 "metadata": {
  "kernelspec": {
   "display_name": "Python 3",
   "language": "python",
   "name": "python3"
  },
  "language_info": {
   "codemirror_mode": {
    "name": "ipython",
    "version": 3
   },
   "file_extension": ".py",
   "mimetype": "text/x-python",
   "name": "python",
   "nbconvert_exporter": "python",
   "pygments_lexer": "ipython3",
   "version": "3.7.3"
  }
 },
 "nbformat": 4,
 "nbformat_minor": 2
}
