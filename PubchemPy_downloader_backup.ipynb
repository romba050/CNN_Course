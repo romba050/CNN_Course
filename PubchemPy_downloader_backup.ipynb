{
 "cells": [
  {
   "cell_type": "code",
   "execution_count": 1,
   "metadata": {},
   "outputs": [],
   "source": [
    "import numpy as np\n",
    "import pandas as pd\n",
    "import pubchempy as pcp\n",
    "import matplotlib as plt \n",
    "import pdb"
   ]
  },
  {
   "cell_type": "code",
   "execution_count": 2,
   "metadata": {},
   "outputs": [
    {
     "name": "stdout",
     "output_type": "stream",
     "text": [
      "Requirement already satisfied: tqdm in /anaconda3/envs/online_teaching/lib/python3.7/site-packages (4.32.1)\n"
     ]
    }
   ],
   "source": [
    "!pip install tqdm\n",
    "# adds loading bar to for loops when you wrap tqdm over an iterable\n",
    "from tqdm import tqdm"
   ]
  },
  {
   "cell_type": "code",
   "execution_count": 7,
   "metadata": {},
   "outputs": [],
   "source": [
    "def compound_finder(compounds, indentity):\n",
    "    '''\n",
    "    Downloads the defined compound properties from Pubchem\n",
    "    \n",
    "    compounds: list of compound identifiers (e.g. names or CIDs)\n",
    "    \n",
    "    identity: 'name', 'cid', ... see PubchemPy documentation for more\n",
    "    '''\n",
    "    \n",
    "    df = pd.DataFrame()\n",
    "    for compound in tqdm(compounds):\n",
    "        temp = pcp.get_properties(['IUPACName',\n",
    "                                   'CanonicalSMILES',\n",
    "                                   'MolecularFormula', \n",
    "                               'MolecularWeight'], compound, indentity, as_dataframe=True)\n",
    "        #print(temp)\n",
    "        df = pd.concat([ df,temp])\n",
    "    df.reindex()\n",
    "    df.index = compounds\n",
    "    return df"
   ]
  },
  {
   "cell_type": "code",
   "execution_count": 4,
   "metadata": {},
   "outputs": [],
   "source": [
    "def compound_finder_name(compounds):\n",
    "    '''\n",
    "    downloads the compounds based on CID. \n",
    "    coumpounds: list of CIDs (integers).\n",
    "    Use compounds = list(range(from, to))\n",
    "    '''\n",
    "    df = pd.DataFrame()\n",
    "    d = dict()\n",
    "    smiles = []\n",
    "    synonyms = []\n",
    "    for compound in tqdm(compounds):\n",
    "        c = pcp.Compound.from_cid(compound)\n",
    "        smile = c.canonical_smiles\n",
    "        synonym = c.synonyms\n",
    "        smiles.append(smile)\n",
    "        synonyms.append(synonym)\n",
    "    d['synonym'] = synonyms\n",
    "    d['smiles'] = smiles\n",
    "    \n",
    "    df = pd.DataFrame(d)\n",
    "    \n",
    "    return(df)"
   ]
  },
  {
   "cell_type": "code",
   "execution_count": 5,
   "metadata": {},
   "outputs": [
    {
     "name": "stderr",
     "output_type": "stream",
     "text": [
      "100%|██████████| 3/3 [00:03<00:00,  1.34s/it]"
     ]
    },
    {
     "name": "stdout",
     "output_type": "stream",
     "text": [
      "                                             synonym  \\\n",
      "0  [Acetyl-DL-carnitine, DL-O-Acetylcarnitine, ac...   \n",
      "1  [(2-acetyloxy-4-hydroxy-4-oxobutyl)-trimethyla...   \n",
      "2  [5,6-dihydroxycyclohexa-1,3-diene-1-carboxylic...   \n",
      "\n",
      "                             smiles  \n",
      "0  CC(=O)OC(CC(=O)[O-])C[N+](C)(C)C  \n",
      "1     CC(=O)OC(CC(=O)O)C[N+](C)(C)C  \n",
      "2          C1=CC(C(C(=C1)C(=O)O)O)O  \n"
     ]
    },
    {
     "name": "stderr",
     "output_type": "stream",
     "text": [
      "\n"
     ]
    }
   ],
   "source": [
    "comps = compound_finder_name([1, 2,3]) # to test the script only --> let students code the function, but in the 'real' exercise we must provide\n",
    "# a bigger dataset as it takes a loooooong time to download the data from pubchem\n",
    "print(comps)"
   ]
  },
  {
   "cell_type": "code",
   "execution_count": 8,
   "metadata": {},
   "outputs": [
    {
     "name": "stderr",
     "output_type": "stream",
     "text": [
      "100%|██████████| 99/99 [01:02<00:00,  1.60it/s]\n"
     ]
    }
   ],
   "source": [
    "compounds = compound_finder(list(range(1,100)), 'cid')\n"
   ]
  },
  {
   "cell_type": "code",
   "execution_count": null,
   "metadata": {},
   "outputs": [],
   "source": [
    "print(compounds.head())"
   ]
  },
  {
   "cell_type": "code",
   "execution_count": null,
   "metadata": {},
   "outputs": [],
   "source": []
  }
 ],
 "metadata": {
  "kernelspec": {
   "display_name": "Python 3",
   "language": "python",
   "name": "python3"
  },
  "language_info": {
   "codemirror_mode": {
    "name": "ipython",
    "version": 3
   },
   "file_extension": ".py",
   "mimetype": "text/x-python",
   "name": "python",
   "nbconvert_exporter": "python",
   "pygments_lexer": "ipython3",
   "version": "3.7.3"
  }
 },
 "nbformat": 4,
 "nbformat_minor": 2
}
